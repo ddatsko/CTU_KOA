{
 "cells": [
  {
   "cell_type": "markdown",
   "metadata": {},
   "source": [
    "# Tiling the bathroom\n",
    "\n",
    "_Combinatorial Optimization course, FEE CTU in Prague. Created by [Industrial Informatics Department](http://industrialinformatics.fel.cvut.cz)._\n",
    "\n",
    "## Motivation\n",
    "\n",
    "You accidentally dropped a bowling ball in your bathroom, which cracked a significant part of the floor. You successfully removed the debris, but now you must fill the resulting rectangular hole with new tiles. However, the tiles are pretty costly, so you asked the neighbors whether they have any spares. Finally, you acquired several different rectangular tiles whose area is equal to the area of the hole. Are you able to repair the floor?\n",
    "\n",
    "## Input\n",
    "\n",
    "You are given the following:\n",
    "\n",
    "* Rectangle hole in your bathroom of dimensions $A_x,A_y$\n",
    "* $n$ different square tiles described by their size $a_i$\n",
    "\n",
    "For the experiments, you may use the following instance:"
   ]
  },
  {
   "cell_type": "code",
   "execution_count": 13,
   "metadata": {},
   "outputs": [
    {
     "name": "stdout",
     "output_type": "stream",
     "text": [
      "Total area: 1056, tiles area: 1056\n"
     ]
    }
   ],
   "source": [
    "A_x, A_y = 33, 32\n",
    "a = [1, 4, 7, 8, 9, 10, 14, 15, 18, 10]\n",
    "# A_x, A_y = 5, 10\n",
    "# a = [5, 5]\n",
    "n = len(a)\n",
    "\n",
    "A_sq = A_x * A_y\n",
    "A = A_x * A_y\n",
    "tiles_sq = sum(a[i] * a[i] for i in range(n))\n",
    "\n",
    "print(f\"Total area: {A_sq}, tiles area: {tiles_sq}\")"
   ]
  },
  {
   "cell_type": "markdown",
   "metadata": {},
   "source": [
    "## Output\n",
    "\n",
    "You should find a positions of the bottom-left corners of the tiles so you fill the entire hole in your bathroom."
   ]
  },
  {
   "cell_type": "markdown",
   "metadata": {},
   "source": [
    "## Own solution"
   ]
  },
  {
   "cell_type": "code",
   "execution_count": 14,
   "metadata": {},
   "outputs": [
    {
     "name": "stdout",
     "output_type": "stream",
     "text": [
      "Set parameter DualReductions to value 0\n",
      "Gurobi Optimizer version 10.0.1 build v10.0.1rc0 (linux64)\n",
      "\n",
      "CPU model: Intel(R) Core(TM) i7-10750H CPU @ 2.60GHz, instruction set [SSE2|AVX|AVX2]\n",
      "Thread count: 6 physical cores, 12 logical processors, using up to 12 threads\n",
      "\n",
      "Optimize a model with 594 rows, 180 columns and 1674 nonzeros\n",
      "Model fingerprint: 0x478063c8\n",
      "Variable types: 0 continuous, 180 integer (162 binary)\n",
      "Coefficient statistics:\n",
      "  Matrix range     [9e-04, 1e+03]\n",
      "  Objective range  [0e+00, 0e+00]\n",
      "  Bounds range     [1e+00, 3e+01]\n",
      "  RHS range        [1e+00, 1e+03]\n",
      "Presolve removed 454 rows and 40 columns\n",
      "Presolve time: 0.00s\n",
      "Presolved: 140 rows, 140 columns, 490 nonzeros\n",
      "Variable types: 0 continuous, 140 integer (124 binary)\n",
      "Found heuristic solution: objective 0.0000000\n",
      "\n",
      "Explored 0 nodes (0 simplex iterations) in 0.01 seconds (0.00 work units)\n",
      "Thread count was 12 (of 12 available processors)\n",
      "\n",
      "Solution count 1: 0 \n",
      "\n",
      "Optimal solution found (tolerance 1.00e-04)\n",
      "Best objective 0.000000000000e+00, best bound 0.000000000000e+00, gap 0.0000%\n"
     ]
    }
   ],
   "source": [
    "import gurobipy as g  # import Gurobi module\n",
    "\n",
    "\n",
    "#\n",
    "model = g.Model()\n",
    "model.Params.DualReductions = 0\n",
    "xs = model.addVars(n, lb=0, ub=A_x, vtype=g.GRB.INTEGER)\n",
    "ys = model.addVars(n, lb=0, ub=A_y, vtype=g.GRB.INTEGER)\n",
    "c = model.addVars(n, n, vtype=g.GRB.BINARY)\n",
    "gs = model.addVars(n, n, vtype=g.GRB.BINARY)\n",
    "\n",
    "M = A_x * A_y\n",
    "M_inv = 1 / M\n",
    "\n",
    "for i in range(n):\n",
    "    for j in range(n):\n",
    "        model.addConstr(xs[i] + a[i] <= A_x)\n",
    "        model.addConstr(ys[i] + a[i] <= A_y)\n",
    "        if i != j:\n",
    "            model.addConstr(gs[i, j] <= 1 + M_inv * xs[j] - M_inv * xs[i] - M_inv * a[i] + 1 / (M**2))\n",
    "            model.addConstr(c[i, j] == 1 - c[j, i])\n",
    "            model.addConstr(ys[j] - ys[i] - a[i] + (1 - c[i, j]) * M + gs[i, j] * M >= 0)\n",
    "            model.addConstr(ys[i] - ys[j] - a[j] + c[i, j] * M + gs[j, i] * M >= 0)\n",
    "            model.addConstr(ys[j] + a[j] - ys[i] + (1 - c[i, j]) * M + gs[i, j] * M >= 0)\n",
    "            model.addConstr(ys[i] + a[i] - ys[j] + c[i, j] * M + gs[j, i] * M >= 0)\n",
    "\n",
    "model.optimize()\n",
    "\n",
    "positions = [(0,0) for i in range(n)]\n",
    "for i in range(n):\n",
    "    positions[i] = (round(xs[i].x), round(ys[i].x))\n",
    "\n"
   ]
  },
  {
   "cell_type": "markdown",
   "metadata": {},
   "source": [
    "# Suggested solution (much better)"
   ]
  },
  {
   "cell_type": "code",
   "execution_count": 15,
   "metadata": {},
   "outputs": [
    {
     "name": "stdout",
     "output_type": "stream",
     "text": [
      "Set parameter NonConvex to value 2\n",
      "Gurobi Optimizer version 10.0.1 build v10.0.1rc0 (linux64)\n",
      "\n",
      "CPU model: Intel(R) Core(TM) i7-10750H CPU @ 2.60GHz, instruction set [SSE2|AVX|AVX2]\n",
      "Thread count: 6 physical cores, 12 logical processors, using up to 12 threads\n",
      "\n",
      "Optimize a model with 378 rows, 182 columns and 1188 nonzeros\n",
      "Model fingerprint: 0x2133b590\n",
      "Model has 1 quadratic objective term\n",
      "Variable types: 20 continuous, 162 integer (162 binary)\n",
      "Coefficient statistics:\n",
      "  Matrix range     [1e+00, 1e+02]\n",
      "  Objective range  [0e+00, 0e+00]\n",
      "  QObjective range [2e+00, 2e+00]\n",
      "  Bounds range     [1e+00, 1e+00]\n",
      "  RHS range        [1e+00, 1e+02]\n",
      "Found heuristic solution: objective 4.000000e+18\n",
      "Presolve removed 180 rows and 18 columns\n",
      "Presolve time: 0.00s\n",
      "Presolved: 200 rows, 166 columns, 617 nonzeros\n",
      "Presolved model has 1 bilinear constraint(s)\n",
      "Variable types: 22 continuous, 144 integer (144 binary)\n",
      "\n",
      "Root relaxation: objective 3.240000e+02, 73 iterations, 0.00 seconds (0.00 work units)\n",
      "\n",
      "    Nodes    |    Current Node    |     Objective Bounds      |     Work\n",
      " Expl Unexpl |  Obj  Depth IntInf | Incumbent    BestBd   Gap | It/Node Time\n",
      "\n",
      "     0     0  324.00000    0   46 4.0000e+18  324.00000   100%     -    0s\n",
      "H    0     0                    1968.0000000  324.00000  83.5%     -    0s\n",
      "     0     0  324.00000    0   63 1968.00000  324.00000  83.5%     -    0s\n",
      "H    0     0                    1728.0000000  324.00000  81.2%     -    0s\n",
      "H    0     0                    1716.0000000  324.00000  81.1%     -    0s\n",
      "     0     0  324.00000    0   63 1716.00000  324.00000  81.1%     -    0s\n",
      "     0     0  523.42467    0   63 1716.00000  523.42467  69.5%     -    0s\n",
      "H    0     0                    1680.0000000  523.42467  68.8%     -    0s\n",
      "H    0     0                    1653.0000000  523.42467  68.3%     -    0s\n",
      "     0     0  594.00000    0   38 1653.00000  594.00000  64.1%     -    0s\n",
      "H    0     0                    1548.0000000  594.00000  61.6%     -    0s\n",
      "H    0     0                    1518.0000000  594.00000  60.9%     -    0s\n",
      "     0     0  594.00000    0   42 1518.00000  594.00000  60.9%     -    0s\n",
      "H    0     0                    1508.0000000  594.00000  60.6%     -    0s\n",
      "H    0     0                    1462.0000000  594.00000  59.4%     -    0s\n",
      "H    0     0                    1419.0000000  594.00000  58.1%     -    0s\n",
      "     0     0  594.00000    0   55 1419.00000  594.00000  58.1%     -    0s\n",
      "     0     0  594.00000    0   49 1419.00000  594.00000  58.1%     -    0s\n",
      "     0     0  594.00000    0   47 1419.00000  594.00000  58.1%     -    0s\n",
      "H    0     0                    1404.0000000  594.00000  57.7%     -    0s\n",
      "H    0     0                    1363.0000000  594.00000  56.4%     -    0s\n",
      "H    0     0                    1353.0000000  594.00000  56.1%     -    0s\n",
      "H    0     0                    1334.0000000  594.00000  55.5%     -    0s\n",
      "     0     0  594.00000    0   26 1334.00000  594.00000  55.5%     -    0s\n",
      "H    0     0                    1275.0000000  594.00000  53.4%     -    0s\n",
      "H    0     0                    1254.0000000  594.00000  52.6%     -    0s\n",
      "H    0     0                    1218.0000000  594.00000  51.2%     -    0s\n",
      "H    0     0                    1189.0000000  594.00000  50.0%     -    0s\n",
      "     0     0  594.00000    0   35 1189.00000  594.00000  50.0%     -    0s\n",
      "     0     0  594.00000    0   19 1189.00000  594.00000  50.0%     -    0s\n",
      "     0     0  594.00000    0   45 1189.00000  594.00000  50.0%     -    0s\n",
      "     0     0  594.00000    0   32 1189.00000  594.00000  50.0%     -    0s\n",
      "     0     0  594.00000    0   31 1189.00000  594.00000  50.0%     -    0s\n",
      "     0     2  594.00000    0   29 1189.00000  594.00000  50.0%     -    0s\n",
      "H   71    78                    1188.0000000  725.87690  38.9%  19.4    0s\n",
      "*  228   140              13    1175.0000000  759.00000  35.4%  10.1    0s\n",
      "H  515   250                    1122.0000000  804.00000  28.3%   8.0    0s\n",
      "*  725   273              28    1089.0000000  864.42857  20.6%   7.8    0s\n",
      "*  999   277              28    1088.0000000  957.00000  12.0%   7.4    0s\n",
      "* 1667   183              28    1056.0000000  957.00000  9.37%   6.4    0s\n",
      "\n",
      "Cutting planes:\n",
      "  Learned: 1\n",
      "  Gomory: 14\n",
      "  Implied bound: 48\n",
      "  MIR: 328\n",
      "  Inf proof: 16\n",
      "  RLT: 36\n",
      "  Relax-and-lift: 55\n",
      "\n",
      "Explored 1855 nodes (13138 simplex iterations) in 0.33 seconds (0.14 work units)\n",
      "Thread count was 12 (of 12 available processors)\n",
      "\n",
      "Solution count 10: 1056 1088 1089 ... 1275\n",
      "\n",
      "Optimal solution found (tolerance 1.00e-04)\n",
      "Best objective 1.056000000000e+03, best bound 1.056000000000e+03, gap 0.0000%\n"
     ]
    }
   ],
   "source": [
    "import gurobipy as g\n",
    "\n",
    "model = g.Model()\n",
    "model.params.nonconvex = 2\n",
    "xs = model.addVars(n, vtype=g.GRB.CONTINUOUS, lb=0)\n",
    "ys = model.addVars(n, vtype=g.GRB.CONTINUOUS, lb=0)\n",
    "x = model.addVars(n, n, vtype=g.GRB.BINARY)\n",
    "y = model.addVars(n, n, vtype=g.GRB.BINARY)\n",
    "Ax = model.addVar()\n",
    "Ay = model.addVar()\n",
    "\n",
    "M = 100\n",
    "for i in range(n):\n",
    "    model.addConstr(Ax >= xs[i] + a[i])\n",
    "    model.addConstr(Ay >= ys[i] + a[i])\n",
    "    for j in range(n):\n",
    "        if i != j:\n",
    "            model.addConstr(xs[i] + a[i] <= xs[j] + M * (1 - x[i, j]))\n",
    "            model.addConstr(xs[j] + a[j] <= xs[i] + M * (1 - x[j, i]))\n",
    "            model.addConstr(ys[i] + a[i] <= ys[j] + M * (1 - y[i, j]))\n",
    "            model.addConstr(ys[j] + a[j] <= ys[i] + M * (1 - y[j, i]))\n",
    "            model.addConstr(x[i, j] + x[j, i] + y[i, j] + y[j, i] >= 1)\n",
    "\n",
    "model.setObjective(Ax * Ay)\n",
    "model.optimize()\n",
    "A_x = Ax.x\n",
    "A_y = Ay.x\n",
    "\n",
    "positions = [(0,0) for i in range(n)]\n",
    "for i in range(n):\n",
    "    positions[i] = (round(xs[i].x), round(ys[i].x))\n"
   ]
  },
  {
   "cell_type": "markdown",
   "metadata": {},
   "source": [
    "## Visualisation\n",
    "\n",
    " "
   ]
  },
  {
   "cell_type": "code",
   "execution_count": 12,
   "metadata": {
    "scrolled": false
   },
   "outputs": [
    {
     "data": {
      "image/png": "[encoded data removed]",
      "text/plain": [
       "<Figure size 432x288 with 1 Axes>"
      ]
     },
     "metadata": {
      "needs_background": "light"
     },
     "output_type": "display_data"
    }
   ],
   "source": [
    "import matplotlib.pyplot as plt\n",
    "from matplotlib.patches import Rectangle\n",
    "import matplotlib.cm as cm\n",
    "\n",
    "fig, ax = plt.subplots()\n",
    "\n",
    "ax.set_xlim((0, A_x))\n",
    "ax.set_ylim((0, A_y))\n",
    "ax.set_aspect(\"equal\")\n",
    "\n",
    "# positions in form of (x, y)\n",
    "for i in range(n):\n",
    "    ax.add_patch(Rectangle(positions[i], a[i], a[i], color=cm.rainbow((i + 0.5)/n)))\n",
    "\n",
    "plt.show()"
   ]
  }
 ],
 "metadata": {
  "kernelspec": {
   "display_name": "Python 3 (ipykernel)",
   "language": "python",
   "name": "python3"
  },
  "language_info": {
   "codemirror_mode": {
    "name": "ipython",
    "version": 3
   },
   "file_extension": ".py",
   "mimetype": "text/x-python",
   "name": "python",
   "nbconvert_exporter": "python",
   "pygments_lexer": "ipython3",
   "version": "3.8.10"
  }
 },
 "nbformat": 4,
 "nbformat_minor": 4
}
