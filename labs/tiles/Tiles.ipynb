{
 "cells": [
  {
   "cell_type": "markdown",
   "metadata": {},
   "source": [
    "# Tiling the bathroom\n",
    "\n",
    "_Combinatorial Optimization course, FEE CTU in Prague. Created by [Industrial Informatics Department](http://industrialinformatics.fel.cvut.cz)._\n",
    "\n",
    "## Motivation\n",
    "\n",
    "You accidentally dropped a bowling ball in your bathroom, which cracked a significant part of the floor. You successfully removed the debris, but now you must fill the resulting rectangular hole with new tiles. However, the tiles are pretty costly, so you asked the neighbors whether they have any spares. Finally, you acquired several different rectangular tiles whose area is equal to the area of the hole. Are you able to repair the floor?\n",
    "\n",
    "## Input\n",
    "\n",
    "You are given the following:\n",
    "\n",
    "* Rectangle hole in your bathroom of dimensions $A_x,A_y$\n",
    "* $n$ different square tiles described by their size $a_i$\n",
    "\n",
    "For the experiments, you may use the following instance:"
   ]
  },
  {
   "cell_type": "code",
   "execution_count": 226,
   "metadata": {},
   "outputs": [
    {
     "name": "stdout",
     "output_type": "stream",
     "text": [
      "Total area: 1056, tiles area: 1056\n"
     ]
    }
   ],
   "source": [
    "A_x, A_y = 33, 32\n",
    "a = [1, 4, 7, 8, 9, 10, 14, 15, 18]\n",
    "# A_x, A_y = 5, 10\n",
    "# a = [5, 5]\n",
    "n = len(a)\n",
    "\n",
    "A_sq = A_x * A_y\n",
    "A = A_x * A_y\n",
    "tiles_sq = sum(a[i] * a[i] for i in range(n))\n",
    "A_sq, tiles_sq\n",
    "\n",
    "print(f\"Total area: {A_sq}, tiles area: {tiles_sq}\")"
   ]
  },
  {
   "cell_type": "markdown",
   "metadata": {},
   "source": [
    "## Output\n",
    "\n",
    "You should find a positions of the bottom-left corners of the tiles so you fill the entire hole in your bathroom."
   ]
  },
  {
   "cell_type": "markdown",
   "metadata": {},
   "source": [
    "## Exercise\n",
    "\n",
    "Implement the ILP model of the problem."
   ]
  },
  {
   "cell_type": "code",
   "execution_count": 229,
   "metadata": {},
   "outputs": [
    {
     "name": "stdout",
     "output_type": "stream",
     "text": [
      "Set parameter DualReductions to value 0\n",
      "Gurobi Optimizer version 10.0.1 build v10.0.1rc0 (linux64)\n",
      "\n",
      "CPU model: Intel(R) Core(TM) i7-10750H CPU @ 2.60GHz, instruction set [SSE2|AVX|AVX2]\n",
      "Thread count: 6 physical cores, 12 logical processors, using up to 12 threads\n",
      "\n",
      "Optimize a model with 594 rows, 180 columns and 1674 nonzeros\n",
      "Model fingerprint: 0x478063c8\n",
      "Variable types: 0 continuous, 180 integer (162 binary)\n",
      "Coefficient statistics:\n",
      "  Matrix range     [9e-04, 1e+03]\n",
      "  Objective range  [0e+00, 0e+00]\n",
      "  Bounds range     [1e+00, 3e+01]\n",
      "  RHS range        [1e+00, 1e+03]\n",
      "Presolve removed 454 rows and 40 columns\n",
      "Presolve time: 0.00s\n",
      "Presolved: 140 rows, 140 columns, 490 nonzeros\n",
      "Variable types: 0 continuous, 140 integer (124 binary)\n",
      "Found heuristic solution: objective 0.0000000\n",
      "\n",
      "Explored 0 nodes (0 simplex iterations) in 0.01 seconds (0.00 work units)\n",
      "Thread count was 12 (of 12 available processors)\n",
      "\n",
      "Solution count 1: 0 \n",
      "\n",
      "Optimal solution found (tolerance 1.00e-04)\n",
      "Best objective 0.000000000000e+00, best bound 0.000000000000e+00, gap 0.0000%\n"
     ]
    }
   ],
   "source": [
    "import gurobipy as g  # import Gurobi module\n",
    "\n",
    "\n",
    "# model --------------------------------------------------\n",
    "model = g.Model()\n",
    "model.Params.DualReductions = 0\n",
    "xs = model.addVars(n, lb=0, ub=A_x, vtype=g.GRB.INTEGER)\n",
    "ys = model.addVars(n, lb=0, ub=A_y, vtype=g.GRB.INTEGER)\n",
    "c = model.addVars(n, n, vtype=g.GRB.BINARY)\n",
    "gs = model.addVars(n, n, vtype=g.GRB.BINARY)\n",
    "\n",
    "M = A_x * A_y\n",
    "M_inv = 1 / M\n",
    "\n",
    "for i in range(n):\n",
    "    for j in range(n):\n",
    "        model.addConstr(xs[i] + a[i] <= A_x)\n",
    "        model.addConstr(ys[i] + a[i] <= A_y)\n",
    "        if i != j:\n",
    "            model.addConstr(gs[i, j] <= 1 + M_inv * xs[j] - M_inv * xs[i] - M_inv * a[i] + 1 / (M**2))\n",
    "            model.addConstr(c[i, j] == 1 - c[j, i])\n",
    "            model.addConstr(ys[j] - ys[i] - a[i] + (1 - c[i, j]) * M + gs[i, j] * M >= 0)\n",
    "            model.addConstr(ys[i] - ys[j] - a[j] + c[i, j] * M + gs[j, i] * M >= 0)\n",
    "            model.addConstr(ys[j] + a[j] - ys[i] + (1 - c[i, j]) * M + gs[i, j] * M >= 0)\n",
    "            model.addConstr(ys[i] + a[i] - ys[j] + c[i, j] * M + gs[j, i] * M >= 0)\n",
    "\n",
    "\n",
    "# model.setObjective(g.quicksum(c), sense=g.GRB.MAXIMIZE)\n",
    "# model.setObjective(0)\n",
    "\n",
    "model.optimize()\n",
    "\n",
    "positions = [(0,0) for i in range(n)]\n",
    "for i in range(n):\n",
    "    positions[i] = (round(xs[i].x), round(ys[i].x))"
   ]
  },
  {
   "cell_type": "code",
   "execution_count": 230,
   "outputs": [
    {
     "name": "stdout",
     "output_type": "stream",
     "text": [
      "-0.0, -0.0, -0.0, -0.0, 1.0, 1.0, 1.0, -0.0, -0.0, \n",
      "1.0, -0.0, -0.0, -0.0, 1.0, 1.0, 1.0, -0.0, -0.0, \n",
      "1.0, 1.0, -0.0, -0.0, 1.0, 1.0, 1.0, -0.0, 1.0, \n",
      "1.0, 1.0, 1.0, -0.0, 1.0, 1.0, 1.0, -0.0, 1.0, \n",
      "0.0, 0.0, 0.0, 0.0, -0.0, 1.0, 1.0, -0.0, -0.0, \n",
      "0.0, 0.0, 0.0, 0.0, 0.0, -0.0, 1.0, -0.0, -0.0, \n",
      "0.0, 0.0, 0.0, 0.0, 0.0, 0.0, -0.0, -0.0, -0.0, \n",
      "1.0, 1.0, 1.0, 1.0, 1.0, 1.0, 1.0, -0.0, 1.0, \n",
      "1.0, 1.0, 0.0, 0.0, 1.0, 1.0, 1.0, 0.0, -0.0, \n",
      "[8.0, 15.0, 8.0, -0.0, -0.0, 9.0, 19.0, 0.0, 15.0]\n",
      "[(8, 22), (15, 18), (8, 15), (0, 15), (0, 23), (9, 22), (19, 18), (0, 0), (15, 0)]\n"
     ]
    }
   ],
   "source": [
    "for i in range(n):\n",
    "    for j in range(n):\n",
    "        # print(ys[j].x - ys[i].x - a[i] + (1 - c[i, j].x) * M + gs[i, j].x * M >= 0)\n",
    "        print(c[i, j].x, end=', ')\n",
    "    print()\n",
    "print([xs[i].x for i in range(n)])\n",
    "print(positions)"
   ],
   "metadata": {
    "collapsed": false
   }
  },
  {
   "cell_type": "markdown",
   "metadata": {},
   "source": [
    "## Visualisation\n",
    "\n",
    " "
   ]
  },
  {
   "cell_type": "code",
   "execution_count": 231,
   "metadata": {
    "scrolled": false
   },
   "outputs": [
    {
     "data": {
      "text/plain": "<Figure size 432x288 with 1 Axes>",
      "image/png": "[encoded data removed]"
     },
     "metadata": {
      "needs_background": "light"
     },
     "output_type": "display_data"
    }
   ],
   "source": [
    "import matplotlib.pyplot as plt\n",
    "from matplotlib.patches import Rectangle\n",
    "import matplotlib.cm as cm\n",
    "\n",
    "fig, ax = plt.subplots()\n",
    "\n",
    "ax.set_xlim((0, A_x))\n",
    "ax.set_ylim((0, A_y))\n",
    "ax.set_aspect(\"equal\")\n",
    "\n",
    "# positions in form of (x, y)\n",
    "for i in range(n):\n",
    "    ax.add_patch(Rectangle(positions[i], a[i], a[i], color=cm.rainbow((i + 0.5)/n)))\n",
    "\n",
    "plt.show()"
   ]
  },
  {
   "cell_type": "code",
   "execution_count": null,
   "metadata": {},
   "outputs": [],
   "source": []
  },
  {
   "cell_type": "code",
   "execution_count": null,
   "metadata": {},
   "outputs": [],
   "source": []
  },
  {
   "cell_type": "code",
   "execution_count": null,
   "metadata": {},
   "outputs": [],
   "source": []
  }
 ],
 "metadata": {
  "kernelspec": {
   "display_name": "Python 3 (ipykernel)",
   "language": "python",
   "name": "python3"
  },
  "language_info": {
   "codemirror_mode": {
    "name": "ipython",
    "version": 3
   },
   "file_extension": ".py",
   "mimetype": "text/x-python",
   "name": "python",
   "nbconvert_exporter": "python",
   "pygments_lexer": "ipython3",
   "version": "3.10.6"
  }
 },
 "nbformat": 4,
 "nbformat_minor": 4
}
